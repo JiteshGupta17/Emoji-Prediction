{
 "cells": [
  {
   "cell_type": "code",
   "execution_count": 1,
   "metadata": {},
   "outputs": [
    {
     "name": "stdout",
     "output_type": "stream",
     "text": [
      "Collecting emoji\n",
      "  Downloading emoji-0.5.4.tar.gz (43 kB)\n",
      "Building wheels for collected packages: emoji\n",
      "  Building wheel for emoji (setup.py): started\n",
      "  Building wheel for emoji (setup.py): finished with status 'done'\n",
      "  Created wheel for emoji: filename=emoji-0.5.4-py3-none-any.whl size=42179 sha256=b1f23f8affd452c81b4f51ccbb155bbf7dd079eca4895492de31c1170f792964\n",
      "  Stored in directory: c:\\users\\jites\\appdata\\local\\pip\\cache\\wheels\\f6\\65\\82\\d742fe456cd8aa21ffe6c4c1eaeedf3c2d430689811bf328e1\n",
      "Successfully built emoji\n",
      "Installing collected packages: emoji\n",
      "Successfully installed emoji-0.5.4\n",
      "Note: you may need to restart the kernel to use updated packages.\n"
     ]
    }
   ],
   "source": [
    "pip install emoji"
   ]
  },
  {
   "cell_type": "code",
   "execution_count": 3,
   "metadata": {},
   "outputs": [],
   "source": [
    "import emoji as emoji"
   ]
  },
  {
   "cell_type": "code",
   "execution_count": 5,
   "metadata": {},
   "outputs": [],
   "source": [
    "# All emoji's along with their unicode\n",
    "#emoji.EMOJI_ALIAS_UNICODE"
   ]
  },
  {
   "cell_type": "code",
   "execution_count": 7,
   "metadata": {},
   "outputs": [],
   "source": [
    "# our emoji dictionary of emojis on which we are going to work\n",
    "# mapping numeric labels to each emoji unicode\n",
    "\n",
    "emoji_dictionary = {\"0\": \"\\u2764\\uFE0F\",    # :heart: prints a black instead of red heart depending on the font\n",
    "                    \"1\": \":baseball:\",\n",
    "                    \"2\": \":beaming_face_with_smiling_eyes:\",\n",
    "                    \"3\": \":downcast_face_with_sweat:\",\n",
    "                    \"4\": \":fork_and_knife:\",\n",
    "                   }"
   ]
  },
  {
   "cell_type": "code",
   "execution_count": 8,
   "metadata": {},
   "outputs": [
    {
     "data": {
      "text/plain": [
       "'🔥'"
      ]
     },
     "execution_count": 8,
     "metadata": {},
     "output_type": "execute_result"
    }
   ],
   "source": [
    "# emoji.emojize() used to convert an emoji enicode to emoji\n",
    "emoji.emojize(\":fire:\")"
   ]
  },
  {
   "cell_type": "code",
   "execution_count": 9,
   "metadata": {},
   "outputs": [
    {
     "name": "stdout",
     "output_type": "stream",
     "text": [
      "❤️\n",
      "⚾\n",
      "😁\n",
      "😓\n",
      "🍴\n"
     ]
    }
   ],
   "source": [
    "# iterating over values in our dictionary\n",
    "for e in emoji_dictionary.values():\n",
    "    print(emoji.emojize(e))"
   ]
  },
  {
   "cell_type": "markdown",
   "metadata": {},
   "source": [
    "## Step - 2 Processing the Custom Dataset"
   ]
  },
  {
   "cell_type": "code",
   "execution_count": 10,
   "metadata": {},
   "outputs": [],
   "source": [
    "import numpy as np\n",
    "import pandas as pd"
   ]
  },
  {
   "cell_type": "code",
   "execution_count": 11,
   "metadata": {},
   "outputs": [],
   "source": [
    "train = pd.read_csv('dataset/train_emoji.csv',header=None)\n",
    "test = pd.read_csv('dataset/test_emoji.csv',header=None)"
   ]
  },
  {
   "cell_type": "code",
   "execution_count": 12,
   "metadata": {},
   "outputs": [
    {
     "data": {
      "text/html": [
       "<div>\n",
       "<style scoped>\n",
       "    .dataframe tbody tr th:only-of-type {\n",
       "        vertical-align: middle;\n",
       "    }\n",
       "\n",
       "    .dataframe tbody tr th {\n",
       "        vertical-align: top;\n",
       "    }\n",
       "\n",
       "    .dataframe thead th {\n",
       "        text-align: right;\n",
       "    }\n",
       "</style>\n",
       "<table border=\"1\" class=\"dataframe\">\n",
       "  <thead>\n",
       "    <tr style=\"text-align: right;\">\n",
       "      <th></th>\n",
       "      <th>0</th>\n",
       "      <th>1</th>\n",
       "      <th>2</th>\n",
       "      <th>3</th>\n",
       "    </tr>\n",
       "  </thead>\n",
       "  <tbody>\n",
       "    <tr>\n",
       "      <th>0</th>\n",
       "      <td>never talk to me again</td>\n",
       "      <td>3</td>\n",
       "      <td>NaN</td>\n",
       "      <td>NaN</td>\n",
       "    </tr>\n",
       "    <tr>\n",
       "      <th>1</th>\n",
       "      <td>I am proud of your achievements</td>\n",
       "      <td>2</td>\n",
       "      <td>NaN</td>\n",
       "      <td>NaN</td>\n",
       "    </tr>\n",
       "    <tr>\n",
       "      <th>2</th>\n",
       "      <td>It is the worst day in my life</td>\n",
       "      <td>3</td>\n",
       "      <td>NaN</td>\n",
       "      <td>NaN</td>\n",
       "    </tr>\n",
       "    <tr>\n",
       "      <th>3</th>\n",
       "      <td>Miss you so much</td>\n",
       "      <td>0</td>\n",
       "      <td>NaN</td>\n",
       "      <td>[0]</td>\n",
       "    </tr>\n",
       "    <tr>\n",
       "      <th>4</th>\n",
       "      <td>food is life</td>\n",
       "      <td>4</td>\n",
       "      <td>NaN</td>\n",
       "      <td>NaN</td>\n",
       "    </tr>\n",
       "  </tbody>\n",
       "</table>\n",
       "</div>"
      ],
      "text/plain": [
       "                                 0  1   2     3\n",
       "0           never talk to me again  3 NaN   NaN\n",
       "1  I am proud of your achievements  2 NaN   NaN\n",
       "2   It is the worst day in my life  3 NaN   NaN\n",
       "3                 Miss you so much  0 NaN   [0]\n",
       "4                     food is life  4 NaN   NaN"
      ]
     },
     "execution_count": 12,
     "metadata": {},
     "output_type": "execute_result"
    }
   ],
   "source": [
    "train.head()"
   ]
  },
  {
   "cell_type": "code",
   "execution_count": 16,
   "metadata": {},
   "outputs": [
    {
     "name": "stdout",
     "output_type": "stream",
     "text": [
      "never talk to me again 😓\n",
      "I am proud of your achievements 😁\n",
      "It is the worst day in my life 😓\n",
      "Miss you so much ❤️\n",
      "food is life 🍴\n",
      "I love you mum ❤️\n",
      "Stop saying bullshit 😓\n",
      "congratulations on your acceptance 😁\n",
      "The assignment is too long  😓\n",
      "I want to go play ⚾\n"
     ]
    }
   ],
   "source": [
    "data = train.values\n",
    "\n",
    "for i in range(10):\n",
    "    cur_emoji_unicode = emoji_dictionary[str(data[i][1])]\n",
    "    print(data[i][0],emoji.emojize(cur_emoji_unicode))"
   ]
  },
  {
   "cell_type": "code",
   "execution_count": 17,
   "metadata": {},
   "outputs": [
    {
     "name": "stdout",
     "output_type": "stream",
     "text": [
      "(132, 4)\n"
     ]
    }
   ],
   "source": [
    "print(data.shape)\n",
    "# we want only 1st 2 columns where 1st column is Sentence and second column is emoji label"
   ]
  },
  {
   "cell_type": "code",
   "execution_count": 18,
   "metadata": {},
   "outputs": [
    {
     "name": "stderr",
     "output_type": "stream",
     "text": [
      "Using TensorFlow backend.\n"
     ]
    }
   ],
   "source": [
    "from keras.utils import to_categorical"
   ]
  },
  {
   "cell_type": "code",
   "execution_count": 20,
   "metadata": {},
   "outputs": [
    {
     "name": "stdout",
     "output_type": "stream",
     "text": [
      "(132,)\n",
      "(56,)\n",
      "(132, 5)\n",
      "(56, 5)\n"
     ]
    }
   ],
   "source": [
    "XT = train[0]\n",
    "Xt = test[0]\n",
    "\n",
    "# Converting labels into one hot vector\n",
    "YT = to_categorical(train[1])\n",
    "Yt = to_categorical(test[1])\n",
    "\n",
    "# as for current data we will be using only 5 labels or emojis\n",
    "print(XT.shape)\n",
    "print(Xt.shape)\n",
    "print(YT.shape)\n",
    "print(Yt.shape)"
   ]
  },
  {
   "cell_type": "markdown",
   "metadata": {},
   "source": [
    "## Step - 3 Using Pre-trained glove vectors"
   ]
  },
  {
   "cell_type": "code",
   "execution_count": 23,
   "metadata": {},
   "outputs": [],
   "source": [
    "## MAking our own embeddings vector for each word\n",
    "embeddings = {}\n",
    "\n",
    "with open('glove.6B.50d.txt',encoding='utf-8') as f:\n",
    "    for line in f:\n",
    "        # to split along the spaces in between\n",
    "        values = line.split()\n",
    "        word = values[0]\n",
    "        coeffs = np.asarray(values[1:],dtype='float32')\n",
    "        \n",
    "        #print(word)\n",
    "        #print(coeffs)\n",
    "        ## coeffs is vector of float values of length 50 for each word\n",
    "        embeddings[word] = coeffs"
   ]
  },
  {
   "cell_type": "markdown",
   "metadata": {},
   "source": [
    "## Step - 4 Embedding layer Output"
   ]
  },
  {
   "cell_type": "code",
   "execution_count": 24,
   "metadata": {},
   "outputs": [],
   "source": [
    "def getOutputEmbeddings(X):\n",
    "    \n",
    "    # 3D matrix of zeros where X.shape[0] gives the batch_size, 10 is maxLen of sentence\n",
    "    # and 50 is glove_vecor len for each word \n",
    "    embedding_matrix_output = np.zeros((X.shape[0],10,50))\n",
    "    \n",
    "    # for each sentence\n",
    "    for ix in range(X.shape[0]):\n",
    "        \n",
    "        # to remove spaces in each sentence\n",
    "        X[ix] = X[ix].split()\n",
    "        \n",
    "        # for each word\n",
    "        for jx in range(len(X[ix])):\n",
    "            # RHS is a vector of length 50\n",
    "            embedding_matrix_output[ix][jx] = embeddings[X[ix][jx].lower()]\n",
    "            \n",
    "    return embedding_matrix_output"
   ]
  },
  {
   "cell_type": "code",
   "execution_count": 25,
   "metadata": {},
   "outputs": [
    {
     "name": "stdout",
     "output_type": "stream",
     "text": [
      "(132, 10, 50)\n",
      "(56, 10, 50)\n"
     ]
    },
    {
     "name": "stderr",
     "output_type": "stream",
     "text": [
      "c:\\users\\jites\\anaconda3\\envs\\tensorflow_env\\lib\\site-packages\\ipykernel_launcher.py:11: SettingWithCopyWarning: \n",
      "A value is trying to be set on a copy of a slice from a DataFrame\n",
      "\n",
      "See the caveats in the documentation: https://pandas.pydata.org/pandas-docs/stable/user_guide/indexing.html#returning-a-view-versus-a-copy\n",
      "  # This is added back by InteractiveShellApp.init_path()\n"
     ]
    }
   ],
   "source": [
    "# getting embedding layer output for Training and testing data\n",
    "emb_XT = getOutputEmbeddings(XT)\n",
    "emb_Xt = getOutputEmbeddings(Xt)\n",
    "\n",
    "print(emb_XT.shape)\n",
    "print(emb_Xt.shape)"
   ]
  },
  {
   "cell_type": "markdown",
   "metadata": {},
   "source": [
    "## Step - 5 Creating Our Stacked LSTM model"
   ]
  },
  {
   "cell_type": "code",
   "execution_count": 26,
   "metadata": {},
   "outputs": [],
   "source": [
    "from keras.layers import *\n",
    "from keras.models import Sequential"
   ]
  },
  {
   "cell_type": "code",
   "execution_count": 27,
   "metadata": {},
   "outputs": [
    {
     "name": "stdout",
     "output_type": "stream",
     "text": [
      "Model: \"sequential_1\"\n",
      "_________________________________________________________________\n",
      "Layer (type)                 Output Shape              Param #   \n",
      "=================================================================\n",
      "lstm_1 (LSTM)                (None, 10, 64)            29440     \n",
      "_________________________________________________________________\n",
      "dropout_1 (Dropout)          (None, 10, 64)            0         \n",
      "_________________________________________________________________\n",
      "lstm_2 (LSTM)                (None, 64)                33024     \n",
      "_________________________________________________________________\n",
      "dropout_2 (Dropout)          (None, 64)                0         \n",
      "_________________________________________________________________\n",
      "dense_1 (Dense)              (None, 5)                 325       \n",
      "_________________________________________________________________\n",
      "activation_1 (Activation)    (None, 5)                 0         \n",
      "=================================================================\n",
      "Total params: 62,789\n",
      "Trainable params: 62,789\n",
      "Non-trainable params: 0\n",
      "_________________________________________________________________\n"
     ]
    }
   ],
   "source": [
    "model = Sequential()\n",
    "\n",
    "# adding first LSTM layer which will accept output of embedding\n",
    "# return_seq is true as it is going to return its outputs to the LSTM layer above it\n",
    "model.add(LSTM(64,input_shape=(10,50),return_sequences=True))\n",
    "model.add(Dropout(0.4))\n",
    "\n",
    "# adding second LSTM layer, return_seq = false for this\n",
    "model.add(LSTM(64,input_shape=(10,50)))\n",
    "model.add(Dropout(0.3))\n",
    "\n",
    "# adding a dense layer along with activation to predixt the labels\n",
    "model.add(Dense(5))\n",
    "model.add(Activation('softmax'))\n",
    "\n",
    "model.summary()"
   ]
  },
  {
   "cell_type": "code",
   "execution_count": 28,
   "metadata": {},
   "outputs": [
    {
     "name": "stdout",
     "output_type": "stream",
     "text": [
      "Train on 118 samples, validate on 14 samples\n",
      "Epoch 1/40\n",
      "118/118 [==============================] - 5s 43ms/step - loss: 1.5973 - acc: 0.2542 - val_loss: 1.6066 - val_acc: 0.2857\n",
      "Epoch 2/40\n",
      "118/118 [==============================] - 0s 1ms/step - loss: 1.5409 - acc: 0.3220 - val_loss: 1.6239 - val_acc: 0.3571\n",
      "Epoch 3/40\n",
      "118/118 [==============================] - 0s 1ms/step - loss: 1.4661 - acc: 0.3729 - val_loss: 1.6513 - val_acc: 0.3571\n",
      "Epoch 4/40\n",
      "118/118 [==============================] - 0s 1ms/step - loss: 1.4643 - acc: 0.3475 - val_loss: 1.6502 - val_acc: 0.2143\n",
      "Epoch 5/40\n",
      "118/118 [==============================] - 0s 1ms/step - loss: 1.4126 - acc: 0.4153 - val_loss: 1.5969 - val_acc: 0.2857\n",
      "Epoch 6/40\n",
      "118/118 [==============================] - 0s 1ms/step - loss: 1.3600 - acc: 0.4068 - val_loss: 1.4931 - val_acc: 0.4286\n",
      "Epoch 7/40\n",
      "118/118 [==============================] - 0s 1ms/step - loss: 1.2741 - acc: 0.5508 - val_loss: 1.3899 - val_acc: 0.4286\n",
      "Epoch 8/40\n",
      "118/118 [==============================] - 0s 1ms/step - loss: 1.1900 - acc: 0.6017 - val_loss: 1.3121 - val_acc: 0.5000\n",
      "Epoch 9/40\n",
      "118/118 [==============================] - 0s 1ms/step - loss: 1.0757 - acc: 0.7034 - val_loss: 1.2554 - val_acc: 0.4286\n",
      "Epoch 10/40\n",
      "118/118 [==============================] - 0s 2ms/step - loss: 0.9533 - acc: 0.6949 - val_loss: 1.2312 - val_acc: 0.4286\n",
      "Epoch 11/40\n",
      "118/118 [==============================] - 0s 1ms/step - loss: 0.8374 - acc: 0.7119 - val_loss: 1.1777 - val_acc: 0.5000\n",
      "Epoch 12/40\n",
      "118/118 [==============================] - 0s 1ms/step - loss: 0.7251 - acc: 0.7627 - val_loss: 1.2377 - val_acc: 0.5714\n",
      "Epoch 13/40\n",
      "118/118 [==============================] - 0s 1ms/step - loss: 0.6713 - acc: 0.7797 - val_loss: 1.4188 - val_acc: 0.5714\n",
      "Epoch 14/40\n",
      "118/118 [==============================] - 0s 1ms/step - loss: 0.6065 - acc: 0.8051 - val_loss: 1.0466 - val_acc: 0.5714\n",
      "Epoch 15/40\n",
      "118/118 [==============================] - 0s 1ms/step - loss: 0.6221 - acc: 0.8220 - val_loss: 1.3696 - val_acc: 0.5000\n",
      "Epoch 16/40\n",
      "118/118 [==============================] - 0s 1ms/step - loss: 0.5176 - acc: 0.8136 - val_loss: 1.0479 - val_acc: 0.5714\n",
      "Epoch 17/40\n",
      "118/118 [==============================] - 0s 1ms/step - loss: 0.3621 - acc: 0.9068 - val_loss: 1.1077 - val_acc: 0.6429\n",
      "Epoch 18/40\n",
      "118/118 [==============================] - 0s 1ms/step - loss: 0.3389 - acc: 0.9322 - val_loss: 1.1305 - val_acc: 0.5714\n",
      "Epoch 19/40\n",
      "118/118 [==============================] - 0s 1ms/step - loss: 0.3023 - acc: 0.9153 - val_loss: 0.9731 - val_acc: 0.7143\n",
      "Epoch 20/40\n",
      "118/118 [==============================] - 0s 1ms/step - loss: 0.2851 - acc: 0.9237 - val_loss: 0.9665 - val_acc: 0.7143\n",
      "Epoch 21/40\n",
      "118/118 [==============================] - 0s 1ms/step - loss: 0.2679 - acc: 0.9322 - val_loss: 1.2643 - val_acc: 0.5714\n",
      "Epoch 22/40\n",
      "118/118 [==============================] - 0s 1ms/step - loss: 0.2356 - acc: 0.9492 - val_loss: 0.8765 - val_acc: 0.7143\n",
      "Epoch 23/40\n",
      "118/118 [==============================] - 0s 1ms/step - loss: 0.2745 - acc: 0.8898 - val_loss: 1.3116 - val_acc: 0.5714\n",
      "Epoch 24/40\n",
      "118/118 [==============================] - 0s 1ms/step - loss: 0.2629 - acc: 0.8814 - val_loss: 1.4231 - val_acc: 0.5714\n",
      "Epoch 25/40\n",
      "118/118 [==============================] - 0s 1ms/step - loss: 0.2388 - acc: 0.9153 - val_loss: 0.9152 - val_acc: 0.7857\n",
      "Epoch 26/40\n",
      "118/118 [==============================] - 0s 1ms/step - loss: 0.2090 - acc: 0.9237 - val_loss: 1.1629 - val_acc: 0.5714\n",
      "Epoch 27/40\n",
      "118/118 [==============================] - 0s 1ms/step - loss: 0.1828 - acc: 0.9322 - val_loss: 1.3742 - val_acc: 0.6429\n",
      "Epoch 28/40\n",
      "118/118 [==============================] - 0s 1ms/step - loss: 0.2083 - acc: 0.9322 - val_loss: 0.9345 - val_acc: 0.6429\n",
      "Epoch 29/40\n",
      "118/118 [==============================] - 0s 1ms/step - loss: 0.2047 - acc: 0.9322 - val_loss: 0.9726 - val_acc: 0.6429\n",
      "Epoch 30/40\n",
      "118/118 [==============================] - 0s 1ms/step - loss: 0.1295 - acc: 0.9661 - val_loss: 1.4352 - val_acc: 0.5000\n",
      "Epoch 31/40\n",
      "118/118 [==============================] - 0s 1ms/step - loss: 0.1811 - acc: 0.9322 - val_loss: 1.0937 - val_acc: 0.6429\n",
      "Epoch 32/40\n",
      "118/118 [==============================] - 0s 1ms/step - loss: 0.1430 - acc: 0.9661 - val_loss: 1.1642 - val_acc: 0.6429\n",
      "Epoch 33/40\n",
      "118/118 [==============================] - 0s 1ms/step - loss: 0.1215 - acc: 0.9661 - val_loss: 1.5447 - val_acc: 0.6429\n",
      "Epoch 34/40\n",
      "118/118 [==============================] - 0s 1ms/step - loss: 0.1572 - acc: 0.9407 - val_loss: 1.1915 - val_acc: 0.5714\n",
      "Epoch 35/40\n",
      "118/118 [==============================] - 0s 1ms/step - loss: 0.0870 - acc: 0.9661 - val_loss: 1.2205 - val_acc: 0.6429\n",
      "Epoch 36/40\n",
      "118/118 [==============================] - 0s 1ms/step - loss: 0.1360 - acc: 0.9746 - val_loss: 1.0476 - val_acc: 0.7143\n",
      "Epoch 37/40\n",
      "118/118 [==============================] - 0s 1ms/step - loss: 0.0904 - acc: 0.9576 - val_loss: 1.6158 - val_acc: 0.5714\n",
      "Epoch 38/40\n",
      "118/118 [==============================] - 0s 1ms/step - loss: 0.0780 - acc: 0.9746 - val_loss: 1.3745 - val_acc: 0.6429\n",
      "Epoch 39/40\n",
      "118/118 [==============================] - 0s 1ms/step - loss: 0.0895 - acc: 0.9661 - val_loss: 1.2351 - val_acc: 0.6429\n",
      "Epoch 40/40\n",
      "118/118 [==============================] - 0s 1ms/step - loss: 0.0508 - acc: 0.9915 - val_loss: 1.4875 - val_acc: 0.6429\n"
     ]
    },
    {
     "data": {
      "text/plain": [
       "<keras.callbacks.callbacks.History at 0x263f2330688>"
      ]
     },
     "execution_count": 28,
     "metadata": {},
     "output_type": "execute_result"
    }
   ],
   "source": [
    "model.compile(optimizer='adam',loss='categorical_crossentropy',metrics=['acc'])\n",
    "model.fit(emb_XT,YT,batch_size=32,epochs=40,shuffle=True,validation_split=0.1)"
   ]
  },
  {
   "cell_type": "code",
   "execution_count": 29,
   "metadata": {},
   "outputs": [],
   "source": [
    "# Accuracy is 99% and validation acc = 64%"
   ]
  },
  {
   "cell_type": "code",
   "execution_count": 30,
   "metadata": {},
   "outputs": [
    {
     "name": "stdout",
     "output_type": "stream",
     "text": [
      "56/56 [==============================] - 0s 325us/step\n"
     ]
    },
    {
     "data": {
      "text/plain": [
       "[1.7839371306555611, 0.5892857313156128]"
      ]
     },
     "execution_count": 30,
     "metadata": {},
     "output_type": "execute_result"
    }
   ],
   "source": [
    "# How the model performs on testing data\n",
    "model.evaluate(emb_Xt,Yt)"
   ]
  },
  {
   "cell_type": "markdown",
   "metadata": {},
   "source": [
    "## Step - 6 Making Predictions"
   ]
  },
  {
   "cell_type": "code",
   "execution_count": 31,
   "metadata": {},
   "outputs": [],
   "source": [
    "pred = model.predict_classes(emb_Xt)"
   ]
  },
  {
   "cell_type": "code",
   "execution_count": 32,
   "metadata": {},
   "outputs": [
    {
     "name": "stdout",
     "output_type": "stream",
     "text": [
      "I want to eat\n",
      "🍴 🍴\n",
      "he did not answer\n",
      "😓 😓\n",
      "he got a raise\n",
      "😁 😁\n",
      "she got me a present\n",
      "😁 ❤️\n",
      "ha ha ha it was so funny\n",
      "😁 😁\n",
      "he is a good friend\n",
      "😁 ❤️\n",
      "I am upset\n",
      "😓 ❤️\n",
      "We had such a lovely dinner tonight\n",
      "😁 ❤️\n",
      "where is the food\n",
      "🍴 🍴\n",
      "Stop making this joke ha ha ha\n",
      "😁 😁\n",
      "where is the ball\n",
      "⚾ ⚾\n",
      "work is hard\n",
      "😁 😓\n",
      "This girl is messing with me\n",
      "❤️ 😓\n",
      "are you serious ha ha\n",
      "😓 😁\n",
      "Let us go play baseball\n",
      "⚾ ⚾\n",
      "This stupid grader is not working\n",
      "😓 😓\n",
      "work is horrible\n",
      "😁 😓\n",
      "Congratulation for having a baby\n",
      "😁 😁\n",
      "stop messing around\n",
      "😓 😓\n",
      "any suggestions for dinner\n",
      "🍴 🍴\n",
      "I love taking breaks\n",
      "😓 ❤️\n",
      "you brighten my day\n",
      "❤️ 😁\n",
      "I boiled rice\n",
      "🍴 🍴\n",
      "she is a bully\n",
      "😁 😓\n",
      "Why are you feeling bad\n",
      "😓 😓\n",
      "I am upset\n",
      "😓 😓\n",
      "I worked during my birthday\n",
      "😁 😓\n",
      "My grandmother is the love of my life\n",
      "❤️ ❤️\n",
      "enjoy your break\n",
      "⚾ 😁\n",
      "valentine day is near\n",
      "😁 ❤️\n"
     ]
    }
   ],
   "source": [
    "for i in range(30):\n",
    "    print(' '.join(Xt[i]))\n",
    "    \n",
    "    result = emoji.emojize(emoji_dictionary[str(np.argmax(Yt[i]))]) ## argmax as Yt is one hot vector\n",
    "    predicted = emoji.emojize(emoji_dictionary[str(pred[i])])\n",
    "    \n",
    "    print(predicted,result)\n"
   ]
  },
  {
   "cell_type": "code",
   "execution_count": null,
   "metadata": {},
   "outputs": [],
   "source": []
  }
 ],
 "metadata": {
  "kernelspec": {
   "display_name": "Python 3",
   "language": "python",
   "name": "python3"
  },
  "language_info": {
   "codemirror_mode": {
    "name": "ipython",
    "version": 3
   },
   "file_extension": ".py",
   "mimetype": "text/x-python",
   "name": "python",
   "nbconvert_exporter": "python",
   "pygments_lexer": "ipython3",
   "version": "3.7.6"
  }
 },
 "nbformat": 4,
 "nbformat_minor": 4
}
